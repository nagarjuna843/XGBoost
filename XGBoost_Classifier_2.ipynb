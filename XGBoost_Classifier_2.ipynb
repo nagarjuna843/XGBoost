{
  "nbformat": 4,
  "nbformat_minor": 0,
  "metadata": {
    "colab": {
      "name": "XGBoost Classifier-2.ipynb",
      "provenance": [],
      "collapsed_sections": []
    },
    "kernelspec": {
      "name": "python3",
      "display_name": "Python 3"
    },
    "language_info": {
      "name": "python"
    }
  },
  "cells": [
    {
      "cell_type": "code",
      "execution_count": 1,
      "metadata": {
        "id": "wq_b7UuvgcYN"
      },
      "outputs": [],
      "source": [
        "import pandas as pd\n",
        "import numpy as np\n",
        "import matplotlib.pyplot as plt"
      ]
    },
    {
      "cell_type": "code",
      "source": [
        "df=pd.read_csv('https://raw.githubusercontent.com/nagarjuna843/XGBoost/main/churn.csv')\n",
        "print(df.head())"
      ],
      "metadata": {
        "colab": {
          "base_uri": "https://localhost:8080/"
        },
        "id": "tkL5nr-igdCO",
        "outputId": "c9772139-61fb-4bda-8bd8-113e128f2f46"
      },
      "execution_count": 2,
      "outputs": [
        {
          "output_type": "stream",
          "name": "stdout",
          "text": [
            "   RowNumber  CustomerId   Surname  ...  IsActiveMember EstimatedSalary Exited\n",
            "0          1    15634602  Hargrave  ...               1       101348.88      1\n",
            "1          2    15647311      Hill  ...               1       112542.58      0\n",
            "2          3    15619304      Onio  ...               0       113931.57      1\n",
            "3          4    15701354      Boni  ...               0        93826.63      0\n",
            "4          5    15737888  Mitchell  ...               1        79084.10      0\n",
            "\n",
            "[5 rows x 14 columns]\n"
          ]
        }
      ]
    },
    {
      "cell_type": "code",
      "source": [
        "inputs=df.drop(['RowNumber','CustomerId','Surname','Exited'],axis='columns')\n",
        "target=df['Exited']\n",
        "print(inputs.head())"
      ],
      "metadata": {
        "colab": {
          "base_uri": "https://localhost:8080/"
        },
        "id": "nrQIZJGlgdEg",
        "outputId": "335d58a3-546a-4722-8b3d-7a7ffa3f508a"
      },
      "execution_count": 3,
      "outputs": [
        {
          "output_type": "stream",
          "name": "stdout",
          "text": [
            "   CreditScore Geography  Gender  ...  HasCrCard  IsActiveMember  EstimatedSalary\n",
            "0          619    France  Female  ...          1               1        101348.88\n",
            "1          608     Spain  Female  ...          0               1        112542.58\n",
            "2          502    France  Female  ...          1               0        113931.57\n",
            "3          699    France  Female  ...          0               0         93826.63\n",
            "4          850     Spain  Female  ...          1               1         79084.10\n",
            "\n",
            "[5 rows x 10 columns]\n"
          ]
        }
      ]
    },
    {
      "cell_type": "code",
      "source": [
        "from sklearn.preprocessing import LabelEncoder\n",
        "inputs['Geography_n']=LabelEncoder().fit_transform(inputs['Geography'])\n",
        "inputs['Gender_n']=LabelEncoder().fit_transform(inputs['Gender'])\n",
        "inputs_n=inputs.drop(['Geography','Gender'],axis='columns')\n",
        "print(inputs_n.head())"
      ],
      "metadata": {
        "colab": {
          "base_uri": "https://localhost:8080/"
        },
        "id": "vLl0sUyIgdGx",
        "outputId": "a77d6196-1505-474d-f012-f0ce4917092e"
      },
      "execution_count": 4,
      "outputs": [
        {
          "output_type": "stream",
          "name": "stdout",
          "text": [
            "   CreditScore  Age  Tenure  ...  EstimatedSalary  Geography_n  Gender_n\n",
            "0          619   42       2  ...        101348.88            0         0\n",
            "1          608   41       1  ...        112542.58            2         0\n",
            "2          502   42       8  ...        113931.57            0         0\n",
            "3          699   39       1  ...         93826.63            0         0\n",
            "4          850   43       2  ...         79084.10            2         0\n",
            "\n",
            "[5 rows x 10 columns]\n"
          ]
        }
      ]
    },
    {
      "cell_type": "code",
      "source": [
        "# split data into train and test sets\n",
        "from sklearn.model_selection import train_test_split\n",
        "seed = 1\n",
        "X_train, X_test, y_train, y_test = train_test_split(inputs_n, target, test_size=0.20, random_state=seed)"
      ],
      "metadata": {
        "id": "NQH-IKrWgdJJ"
      },
      "execution_count": 6,
      "outputs": []
    },
    {
      "cell_type": "code",
      "source": [
        "from sklearn.linear_model import LogisticRegression\n",
        "from sklearn.neighbors import KNeighborsClassifier\n",
        "from sklearn.svm import SVC\n",
        "from xgboost import XGBClassifier\n",
        "from sklearn.metrics import accuracy_score\n",
        "\n",
        "#Running various models\n",
        "models = []\n",
        "models.append(('LogisticRegression', LogisticRegression()))\n",
        "models.append(('KNN', KNeighborsClassifier()))\n",
        "models.append(('SVM', SVC()))\n",
        "models.append(('XGB',XGBClassifier(eta=0.01,gamma=10))) #eta = 0.01,gamma = 10\n",
        "\n",
        "import time\n",
        "\n",
        "# evaluate each model in turn\n",
        "results = []\n",
        "names = []\n",
        "scoring = 'accuracy'\n",
        "\n",
        "for name, model in models:\n",
        "    start_time = time.time()\n",
        "    model.fit(X_train, y_train)\n",
        "\n",
        "    y_pred = model.predict(X_test)\n",
        "    predictions = [round(value) for value in y_pred]\n",
        "\n",
        "\n",
        "    # evaluate predictions\n",
        "    accuracy = accuracy_score(y_test, predictions)\n",
        "    print(\"Accuracy: %.2f%%\" % (accuracy * 100.0),name)\n",
        "    print(\"--- %s seconds ---\" % (time.time() - start_time))"
      ],
      "metadata": {
        "colab": {
          "base_uri": "https://localhost:8080/"
        },
        "id": "kb218wHUgdLU",
        "outputId": "33bd6c6a-d510-474f-a0c2-ade04c8ad8dd"
      },
      "execution_count": 7,
      "outputs": [
        {
          "output_type": "stream",
          "name": "stdout",
          "text": [
            "Accuracy: 78.55% LogisticRegression\n",
            "--- 0.09014463424682617 seconds ---\n",
            "Accuracy: 76.40% KNN\n",
            "--- 0.1298973560333252 seconds ---\n",
            "Accuracy: 79.25% SVM\n",
            "--- 2.348093032836914 seconds ---\n",
            "Accuracy: 86.05% XGB\n",
            "--- 0.6013109683990479 seconds ---\n"
          ]
        }
      ]
    },
    {
      "cell_type": "code",
      "source": [
        ""
      ],
      "metadata": {
        "id": "yxEoM8o9gdN7"
      },
      "execution_count": null,
      "outputs": []
    }
  ]
}